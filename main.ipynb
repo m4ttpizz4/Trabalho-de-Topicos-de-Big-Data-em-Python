{
 "cells": [
  {
   "cell_type": "code",
   "execution_count": null,
   "metadata": {
    "vscode": {
     "languageId": "plaintext"
    }
   },
   "outputs": [],
   "source": [
    "from openpyxl import load_workbook\n",
    "import pandas as pd\n",
    "import matplotlib.pyplot as plt\n",
    "\n",
    "workbook = load_workbook(filename=\"Segurança alimentar 2013 - 2023.xlsx\")\n",
    "worksheet = workbook.active\n",
    "\n",
    "data = []\n",
    "for row in range(3, 30):\n",
    "    state = worksheet.cell(row=row, column=1).value\n",
    "    values = [worksheet.cell(row=row, column=col).value for col in range(2, 5)]\n",
    "    data.append([state] + values)\n",
    "\n",
    "columns = [\"Estados\", worksheet.cell(row=1, column=2).value, \n",
    "           worksheet.cell(row=1, column=3).value, worksheet.cell(row=1, column=4).value]\n",
    "df = pd.DataFrame(data, columns=columns)\n",
    "\n",
    "df.plot(x=\"Estados\", kind=\"bar\", figsize=(10, 6))\n",
    "plt.title(\"Segurança Alimentar 2013 - 2023\")\n",
    "plt.ylabel(\"Valores\")\n",
    "plt.xticks(rotation=45, ha=\"right\")\n",
    "plt.tight_layout()\n",
    "plt.show()\n",
    "\n",
    "workbook.close()"
   ]
  }
 ],
 "metadata": {
  "language_info": {
   "name": "python"
  }
 },
 "nbformat": 4,
 "nbformat_minor": 2
}
